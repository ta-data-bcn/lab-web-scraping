{
 "cells": [
  {
   "cell_type": "markdown",
   "metadata": {},
   "source": [
    "# Web Scraping Lab\n",
    "\n",
    "You will find in this notebook some scrapy exercises to practise your scraping skills.\n",
    "\n",
    "**Tips:**\n",
    "\n",
    "- Check the response status code for each request to ensure you have obtained the intended content.\n",
    "- Print the response text in each request to understand the kind of info you are getting and its format.\n",
    "- Check for patterns in the response text to extract the data/info requested in each question.\n",
    "- Visit the urls below and take a look at their source code through Chrome DevTools. You'll need to identify the html tags, special class names, etc used in the html content you are expected to extract.\n",
    "\n",
    "**Resources**:\n",
    "- [Requests library](http://docs.python-requests.org/en/master/#the-user-guide)\n",
    "- [Beautiful Soup Doc](https://www.crummy.com/software/BeautifulSoup/bs4/doc/)\n",
    "- [Urllib](https://docs.python.org/3/library/urllib.html#module-urllib)\n",
    "- [re lib](https://docs.python.org/3/library/re.html)\n",
    "- [lxml lib](https://lxml.de/)\n",
    "- [Scrapy](https://scrapy.org/)\n",
    "- [List of HTTP status codes](https://en.wikipedia.org/wiki/List_of_HTTP_status_codes)\n",
    "- [HTML basics](http://www.simplehtmlguide.com/cheatsheet.php)\n",
    "- [CSS basics](https://www.cssbasics.com/#page_start)"
   ]
  },
  {
   "cell_type": "markdown",
   "metadata": {},
   "source": [
    "#### Below are the libraries and modules you may need. `requests`,  `BeautifulSoup` and `pandas` are already imported for you. If you prefer to use additional libraries feel free to do it."
   ]
  },
  {
   "cell_type": "code",
   "execution_count": 3,
   "metadata": {},
   "outputs": [],
   "source": [
    "import requests\n",
    "from bs4 import BeautifulSoup\n",
    "import pandas as pd\n",
    "import regex as re"
   ]
  },
  {
   "cell_type": "markdown",
   "metadata": {},
   "source": [
    "#### Download, parse (using BeautifulSoup), and print the content from the Trending Developers page from GitHub:"
   ]
  },
  {
   "cell_type": "code",
   "execution_count": 4,
   "metadata": {},
   "outputs": [],
   "source": [
    "# This is the url you will scrape in this exercise\n",
    "dev_url = 'https://github.com/trending/developers'"
   ]
  },
  {
   "cell_type": "code",
   "execution_count": 5,
   "metadata": {},
   "outputs": [
    {
     "ename": "NameError",
     "evalue": "name 'response' is not defined",
     "output_type": "error",
     "traceback": [
      "\u001b[0;31m---------------------------------------------------------------------------\u001b[0m",
      "\u001b[0;31mNameError\u001b[0m                                 Traceback (most recent call last)",
      "\u001b[0;32m<ipython-input-5-4446112602fb>\u001b[0m in \u001b[0;36m<module>\u001b[0;34m\u001b[0m\n\u001b[1;32m      1\u001b[0m \u001b[0mresponse_developers\u001b[0m \u001b[0;34m=\u001b[0m \u001b[0mrequests\u001b[0m\u001b[0;34m.\u001b[0m\u001b[0mget\u001b[0m\u001b[0;34m(\u001b[0m\u001b[0mdev_url\u001b[0m\u001b[0;34m)\u001b[0m\u001b[0;34m\u001b[0m\u001b[0;34m\u001b[0m\u001b[0m\n\u001b[1;32m      2\u001b[0m \u001b[0;34m\u001b[0m\u001b[0m\n\u001b[0;32m----> 3\u001b[0;31m \u001b[0msoup_developers\u001b[0m \u001b[0;34m=\u001b[0m \u001b[0mBeautifulSoup\u001b[0m\u001b[0;34m(\u001b[0m\u001b[0mresponse\u001b[0m\u001b[0;34m.\u001b[0m\u001b[0mcontent\u001b[0m\u001b[0;34m,\u001b[0m \u001b[0;34m'html.parser'\u001b[0m\u001b[0;34m)\u001b[0m\u001b[0;34m\u001b[0m\u001b[0;34m\u001b[0m\u001b[0m\n\u001b[0m\u001b[1;32m      4\u001b[0m \u001b[0;34m\u001b[0m\u001b[0m\n\u001b[1;32m      5\u001b[0m \u001b[0msoup_developers\u001b[0m\u001b[0;34m\u001b[0m\u001b[0;34m\u001b[0m\u001b[0m\n",
      "\u001b[0;31mNameError\u001b[0m: name 'response' is not defined"
     ]
    }
   ],
   "source": [
    "response_developers = requests.get(dev_url)\n",
    "\n",
    "soup_developers = BeautifulSoup(response.content, 'html.parser')\n",
    "\n",
    "soup_developers"
   ]
  },
  {
   "cell_type": "markdown",
   "metadata": {},
   "source": [
    "#### Display the names of the trending developers retrieved in the previous step.\n",
    "\n",
    "Your output should be a Python list of developer names. Each name should not contain any html tag.\n",
    "\n",
    "**Instructions:**\n",
    "\n",
    "1. Find out the html tag and class names used for the developer names. You can achieve this using Chrome DevTools.\n",
    "\n",
    "1. Use BeautifulSoup to extract all the html elements that contain the developer names.\n",
    "\n",
    "1. Use string manipulation techniques to replace whitespaces and linebreaks (i.e. `\\n`) in the *text* of each html element. Use a list to store the clean names.\n",
    "\n",
    "1. Print the list of names.\n",
    "\n",
    "Your output should look like below:\n",
    "\n",
    "```\n",
    "['trimstray (@trimstray)',\n",
    " 'joewalnes (JoeWalnes)',\n",
    " 'charlax (Charles-AxelDein)',\n",
    " 'ForrestKnight (ForrestKnight)',\n",
    " 'revery-ui (revery-ui)',\n",
    " 'alibaba (Alibaba)',\n",
    " 'Microsoft (Microsoft)',\n",
    " 'github (GitHub)',\n",
    " 'facebook (Facebook)',\n",
    " 'boazsegev (Bo)',\n",
    " 'google (Google)',\n",
    " 'cloudfetch',\n",
    " 'sindresorhus (SindreSorhus)',\n",
    " 'tensorflow',\n",
    " 'apache (TheApacheSoftwareFoundation)',\n",
    " 'DevonCrawford (DevonCrawford)',\n",
    " 'ARMmbed (ArmMbed)',\n",
    " 'vuejs (vuejs)',\n",
    " 'fastai (fast.ai)',\n",
    " 'QiShaoXuan (Qi)',\n",
    " 'joelparkerhenderson (JoelParkerHenderson)',\n",
    " 'torvalds (LinusTorvalds)',\n",
    " 'CyC2018',\n",
    " 'komeiji-satori (神楽坂覚々)',\n",
    " 'script-8']\n",
    " ```"
   ]
  },
  {
   "cell_type": "code",
   "execution_count": null,
   "metadata": {},
   "outputs": [],
   "source": [
    "#<h1 class=\"h3 lh-condensed\">\n",
    "names_soup = soup.findAll('h1', {'class': 'h3 lh-condensed'})\n",
    "\n",
    "names_dirty = []\n",
    "for n in names_soup:\n",
    "    names_dirty.append(n.find('a').text)\n",
    "\n",
    "\n",
    "names = []\n",
    "for i in names_dirty:\n",
    "    names.append(i[13:-1])\n",
    "\n",
    "\n",
    "#<p class=\"f4 text-normal mb-1\">\n",
    "tags_soup = soup.findAll(\"p\", {\"class\": \"f4 text-normal mb-1\"})\n",
    "\n",
    "tags_dirty = []\n",
    "for x in tags_soup:\n",
    "    tags_dirty.append(x.find('a').text)\n",
    "    \n",
    "tags = []\n",
    "for i in tags_dirty:\n",
    "    tags.append(i[15:-1])\n",
    "    \n",
    "    \n",
    "names_tags = []\n",
    "\n",
    "for n,t in zip(names,tags):\n",
    "    names_tags.append(''+t+' ('+n+')')\n",
    "    \n",
    "names_tags"
   ]
  },
  {
   "cell_type": "markdown",
   "metadata": {},
   "source": [
    "#### Display the trending Python repositories in GitHub.\n",
    "\n",
    "The steps to solve this problem is similar to the previous one except that you need to find out the repository names instead of developer names."
   ]
  },
  {
   "cell_type": "code",
   "execution_count": null,
   "metadata": {},
   "outputs": [],
   "source": [
    "# This is the url you will scrape in this exercise\n",
    "rep_url = 'https://github.com/trending/python?since=daily'"
   ]
  },
  {
   "cell_type": "code",
   "execution_count": null,
   "metadata": {},
   "outputs": [],
   "source": [
    "#<h1 class=\"h3 lh-condensed\">\n",
    "\n",
    "rep_response = requests.get(rep_url)\n",
    "rep_soup = BeautifulSoup(rep_response.content, 'html.parser')\n",
    "\n",
    "rep_soup = rep_soup.findAll('h1', {'class': 'h3 lh-condensed'})\n",
    "\n",
    "\n",
    "rep_dirty = []\n",
    "for r in rep_soup:\n",
    "    rep_dirty.append(r.find('a').text)\n",
    "\n",
    "rep_only = re.findall('/\\n\\n\\n\\n      .*', ''.join(rep_dirty))\n",
    "\n",
    "reps = []\n",
    "for r in rep_only:\n",
    "    reps.append(r[11:])\n",
    "\n",
    "reps"
   ]
  },
  {
   "cell_type": "markdown",
   "metadata": {},
   "source": [
    "#### Display all the image links from Walt Disney wikipedia page."
   ]
  },
  {
   "cell_type": "code",
   "execution_count": null,
   "metadata": {},
   "outputs": [],
   "source": [
    "# This is the url you will scrape in this exercise\n",
    "disney_url = 'https://en.wikipedia.org/wiki/Walt_Disney'"
   ]
  },
  {
   "cell_type": "code",
   "execution_count": null,
   "metadata": {},
   "outputs": [],
   "source": [
    "disney_response = requests.get(disney_url)\n",
    "disney_soup = BeautifulSoup(disney_response.content, 'html.parser')\n",
    "\n",
    "img_tags = disney_soup.find_all('img')\n",
    "\n",
    "urls = [img['src'] for img in img_tags]\n",
    "urls"
   ]
  },
  {
   "cell_type": "markdown",
   "metadata": {},
   "source": [
    "#### Retrieve an arbitary Wikipedia page of \"Python\" and create a list of links on that page."
   ]
  },
  {
   "cell_type": "code",
   "execution_count": 6,
   "metadata": {},
   "outputs": [],
   "source": [
    "# This is the url you will scrape in this exercise\n",
    "py_url ='https://en.wikipedia.org/wiki/Python' "
   ]
  },
  {
   "cell_type": "code",
   "execution_count": 7,
   "metadata": {},
   "outputs": [
    {
     "data": {
      "text/plain": [
       "['https://en.wiktionary.org/wiki/Python',\n",
       " 'https://en.wiktionary.org/wiki/python',\n",
       " 'https://en.wikipedia.org/w/index.php?title=Special:WhatLinksHere/Python&namespace=0',\n",
       " 'https://en.wikipedia.org/w/index.php?title=Python&oldid=963092579',\n",
       " 'https://donate.wikimedia.org/wiki/Special:FundraiserRedirector?utm_source=donate&utm_medium=sidebar&utm_campaign=C13_en.wikipedia.org&uselang=en',\n",
       " 'https://www.wikidata.org/wiki/Special:EntityPage/Q747452',\n",
       " 'https://commons.wikimedia.org/wiki/Category:Python',\n",
       " 'https://af.wikipedia.org/wiki/Python',\n",
       " 'https://als.wikipedia.org/wiki/Python',\n",
       " 'https://ar.wikipedia.org/wiki/%D8%A8%D8%A7%D9%8A%D8%AB%D9%88%D9%86',\n",
       " 'https://az.wikipedia.org/wiki/Python',\n",
       " 'https://bn.wikipedia.org/wiki/%E0%A6%AA%E0%A6%BE%E0%A6%87%E0%A6%A5%E0%A6%A8_(%E0%A6%A6%E0%A7%8D%E0%A6%AC%E0%A7%8D%E0%A6%AF%E0%A6%B0%E0%A7%8D%E0%A6%A5%E0%A6%A4%E0%A6%BE_%E0%A6%A8%E0%A6%BF%E0%A6%B0%E0%A6%B8%E0%A6%A8)',\n",
       " 'https://be.wikipedia.org/wiki/Python',\n",
       " 'https://bg.wikipedia.org/wiki/%D0%9F%D0%B8%D1%82%D0%BE%D0%BD_(%D0%BF%D0%BE%D1%8F%D1%81%D0%BD%D0%B5%D0%BD%D0%B8%D0%B5)',\n",
       " 'https://cs.wikipedia.org/wiki/Python_(rozcestn%C3%ADk)',\n",
       " 'https://da.wikipedia.org/wiki/Python',\n",
       " 'https://de.wikipedia.org/wiki/Python',\n",
       " 'https://eo.wikipedia.org/wiki/Pitono_(apartigilo)',\n",
       " 'https://eu.wikipedia.org/wiki/Python_(argipena)',\n",
       " 'https://fa.wikipedia.org/wiki/%D9%BE%D8%A7%DB%8C%D8%AA%D9%88%D9%86',\n",
       " 'https://fr.wikipedia.org/wiki/Python',\n",
       " 'https://ko.wikipedia.org/wiki/%ED%8C%8C%EC%9D%B4%EC%84%A0',\n",
       " 'https://hr.wikipedia.org/wiki/Python_(razdvojba)',\n",
       " 'https://io.wikipedia.org/wiki/Pitono',\n",
       " 'https://id.wikipedia.org/wiki/Python',\n",
       " 'https://ia.wikipedia.org/wiki/Python_(disambiguation)',\n",
       " 'https://is.wikipedia.org/wiki/Python_(a%C3%B0greining)',\n",
       " 'https://it.wikipedia.org/wiki/Python_(disambigua)',\n",
       " 'https://he.wikipedia.org/wiki/%D7%A4%D7%99%D7%AA%D7%95%D7%9F',\n",
       " 'https://ka.wikipedia.org/wiki/%E1%83%9E%E1%83%98%E1%83%97%E1%83%9D%E1%83%9C%E1%83%98_(%E1%83%9B%E1%83%A0%E1%83%90%E1%83%95%E1%83%90%E1%83%9A%E1%83%9B%E1%83%9C%E1%83%98%E1%83%A8%E1%83%95%E1%83%9C%E1%83%94%E1%83%9A%E1%83%9D%E1%83%95%E1%83%90%E1%83%9C%E1%83%98)',\n",
       " 'https://kg.wikipedia.org/wiki/Mboma_(nyoka)',\n",
       " 'https://la.wikipedia.org/wiki/Python_(discretiva)',\n",
       " 'https://lb.wikipedia.org/wiki/Python',\n",
       " 'https://hu.wikipedia.org/wiki/Python_(egy%C3%A9rtelm%C5%B1s%C3%ADt%C5%91_lap)',\n",
       " 'https://mr.wikipedia.org/wiki/%E0%A4%AA%E0%A4%BE%E0%A4%AF%E0%A4%A5%E0%A5%89%E0%A4%A8_(%E0%A4%86%E0%A4%9C%E0%A5%8D%E0%A4%9E%E0%A4%BE%E0%A4%B5%E0%A4%B2%E0%A5%80_%E0%A4%AD%E0%A4%BE%E0%A4%B7%E0%A4%BE)',\n",
       " 'https://nl.wikipedia.org/wiki/Python',\n",
       " 'https://ja.wikipedia.org/wiki/%E3%83%91%E3%82%A4%E3%82%BD%E3%83%B3',\n",
       " 'https://no.wikipedia.org/wiki/Pyton',\n",
       " 'https://pl.wikipedia.org/wiki/Pyton',\n",
       " 'https://pt.wikipedia.org/wiki/Python_(desambigua%C3%A7%C3%A3o)',\n",
       " 'https://ru.wikipedia.org/wiki/Python_(%D0%B7%D0%BD%D0%B0%D1%87%D0%B5%D0%BD%D0%B8%D1%8F)',\n",
       " 'https://sk.wikipedia.org/wiki/Python',\n",
       " 'https://sr.wikipedia.org/wiki/%D0%9F%D0%B8%D1%82%D0%BE%D0%BD_(%D0%B2%D0%B8%D1%88%D0%B5%D0%B7%D0%BD%D0%B0%D1%87%D0%BD%D0%B0_%D0%BE%D0%B4%D1%80%D0%B5%D0%B4%D0%BD%D0%B8%D1%86%D0%B0)',\n",
       " 'https://sh.wikipedia.org/wiki/Python',\n",
       " 'https://fi.wikipedia.org/wiki/Python',\n",
       " 'https://sv.wikipedia.org/wiki/Pyton',\n",
       " 'https://th.wikipedia.org/wiki/%E0%B9%84%E0%B8%9E%E0%B8%97%E0%B8%AD%E0%B8%99',\n",
       " 'https://tr.wikipedia.org/wiki/Python',\n",
       " 'https://uk.wikipedia.org/wiki/%D0%9F%D1%96%D1%84%D0%BE%D0%BD',\n",
       " 'https://ur.wikipedia.org/wiki/%D9%BE%D8%A7%D8%A6%DB%8C%D8%AA%DA%BE%D9%88%D9%86',\n",
       " 'https://vi.wikipedia.org/wiki/Python',\n",
       " 'https://zh.wikipedia.org/wiki/Python_(%E6%B6%88%E6%AD%A7%E4%B9%89)',\n",
       " 'https://www.wikidata.org/wiki/Special:EntityPage/Q747452#sitelinks-wikipedia',\n",
       " 'https://foundation.wikimedia.org/wiki/Privacy_policy',\n",
       " 'https://www.mediawiki.org/wiki/Special:MyLanguage/How_to_contribute',\n",
       " 'https://stats.wikimedia.org/#/en.wikipedia.org',\n",
       " 'https://foundation.wikimedia.org/wiki/Cookie_statement',\n",
       " 'https://wikimediafoundation.org/',\n",
       " 'https://www.mediawiki.org/']"
      ]
     },
     "execution_count": 7,
     "metadata": {},
     "output_type": "execute_result"
    }
   ],
   "source": [
    "py_response = requests.get(py_url)\n",
    "py_soup = BeautifulSoup(py_response.content, 'html.parser')\n",
    "\n",
    "py_a = py_soup.find_all('a',attrs={'href': re.compile(\"^https?://\")})\n",
    "\n",
    "py_links = []\n",
    "for link in py_a:\n",
    "    py_links.append(link['href'])\n",
    "    \n",
    "py_links"
   ]
  },
  {
   "cell_type": "markdown",
   "metadata": {},
   "source": [
    "#### Find the number of titles that have changed in the United States Code since its last release point."
   ]
  },
  {
   "cell_type": "code",
   "execution_count": 8,
   "metadata": {},
   "outputs": [],
   "source": [
    "# This is the url you will scrape in this exercise\n",
    "title_url = 'http://uscode.house.gov/download/download.shtml'"
   ]
  },
  {
   "cell_type": "code",
   "execution_count": 9,
   "metadata": {},
   "outputs": [
    {
     "data": {
      "text/plain": [
       "45"
      ]
     },
     "execution_count": 9,
     "metadata": {},
     "output_type": "execute_result"
    }
   ],
   "source": [
    "#<div class=\"uscitem\">\n",
    "\n",
    "title_response = requests.get(title_url)\n",
    "title_soup = BeautifulSoup(title_response.content, 'html.parser')\n",
    "\n",
    "title_div = title_soup.find_all('div' , {'class':'usctitle'})\n",
    "len(title_div)"
   ]
  },
  {
   "cell_type": "markdown",
   "metadata": {},
   "source": [
    "#### Find a Python list with the top ten FBI's Most Wanted names."
   ]
  },
  {
   "cell_type": "code",
   "execution_count": 10,
   "metadata": {},
   "outputs": [],
   "source": [
    "# This is the url you will scrape in this exercise\n",
    "wanted_url = 'https://www.fbi.gov/wanted/topten'"
   ]
  },
  {
   "cell_type": "code",
   "execution_count": 11,
   "metadata": {},
   "outputs": [
    {
     "data": {
      "text/plain": [
       "['ALEJANDRO ROSALES CASTILLO',\n",
       " 'ARNOLDO JIMENEZ',\n",
       " 'JASON DEREK BROWN',\n",
       " 'YASER ABDEL SAID',\n",
       " 'ALEXIS FLORES',\n",
       " 'EUGENE PALMER',\n",
       " 'SANTIAGO VILLALBA MEDEROS',\n",
       " 'RAFAEL CARO-QUINTERO',\n",
       " 'ROBERT WILLIAM FISHER',\n",
       " 'BHADRESHKUMAR CHETANBHAI PATEL']"
      ]
     },
     "execution_count": 11,
     "metadata": {},
     "output_type": "execute_result"
    }
   ],
   "source": [
    "#<li class=\"portal-type-person castle-grid-block-item\">\n",
    "\n",
    "wanted_response = requests.get(wanted_url)\n",
    "wanted_soup = BeautifulSoup(wanted_response.content, 'html.parser')\n",
    "\n",
    "wanted_li = wanted_soup.find_all('li', {'class' : 'portal-type-person castle-grid-block-item'})\n",
    "\n",
    "\n",
    "wanted_dirty = []\n",
    "for w in wanted_li:\n",
    "    wanted_dirty.append(w.find('h3').text[1:-1])\n",
    "\n",
    "wanted_dirty"
   ]
  },
  {
   "cell_type": "markdown",
   "metadata": {},
   "source": [
    "####  Display the 20 latest earthquakes info (date, time, latitude, longitude and region name) by the EMSC as a pandas dataframe."
   ]
  },
  {
   "cell_type": "code",
   "execution_count": 12,
   "metadata": {},
   "outputs": [],
   "source": [
    "# This is the url you will scrape in this exercise\n",
    "eq_url = 'https://www.emsc-csem.org/Earthquake/'"
   ]
  },
  {
   "cell_type": "code",
   "execution_count": 13,
   "metadata": {},
   "outputs": [
    {
     "data": {
      "text/html": [
       "<div>\n",
       "<style scoped>\n",
       "    .dataframe tbody tr th:only-of-type {\n",
       "        vertical-align: middle;\n",
       "    }\n",
       "\n",
       "    .dataframe tbody tr th {\n",
       "        vertical-align: top;\n",
       "    }\n",
       "\n",
       "    .dataframe thead th {\n",
       "        text-align: right;\n",
       "    }\n",
       "</style>\n",
       "<table border=\"1\" class=\"dataframe\">\n",
       "  <thead>\n",
       "    <tr style=\"text-align: right;\">\n",
       "      <th></th>\n",
       "      <th>Date</th>\n",
       "      <th>Time</th>\n",
       "      <th>Latitude</th>\n",
       "      <th>Longitude</th>\n",
       "      <th>Region Name</th>\n",
       "    </tr>\n",
       "  </thead>\n",
       "  <tbody>\n",
       "    <tr>\n",
       "      <th>0</th>\n",
       "      <td>2020-07-10</td>\n",
       "      <td>15:26:48.3</td>\n",
       "      <td>N</td>\n",
       "      <td>35.30</td>\n",
       "      <td>CENTRAL MEDITERRANEAN SEA</td>\n",
       "    </tr>\n",
       "    <tr>\n",
       "      <th>1</th>\n",
       "      <td>2020-07-10</td>\n",
       "      <td>15:17:27.0</td>\n",
       "      <td>E</td>\n",
       "      <td>22.76</td>\n",
       "      <td>ANTOFAGASTA, CHILE</td>\n",
       "    </tr>\n",
       "    <tr>\n",
       "      <th>2</th>\n",
       "      <td>2020-07-10</td>\n",
       "      <td>15:16:59.2</td>\n",
       "      <td>3.7</td>\n",
       "      <td>24.06</td>\n",
       "      <td>CENTRAL CALIFORNIA</td>\n",
       "    </tr>\n",
       "    <tr>\n",
       "      <th>3</th>\n",
       "      <td>2020-07-10</td>\n",
       "      <td>15:06:03.0</td>\n",
       "      <td>S</td>\n",
       "      <td>67.46</td>\n",
       "      <td>MAULE, CHILE</td>\n",
       "    </tr>\n",
       "    <tr>\n",
       "      <th>4</th>\n",
       "      <td>2020-07-10</td>\n",
       "      <td>15:01:08.1</td>\n",
       "      <td>W</td>\n",
       "      <td>36.44</td>\n",
       "      <td>NORTHERN ITALY</td>\n",
       "    </tr>\n",
       "    <tr>\n",
       "      <th>5</th>\n",
       "      <td>2020-07-10</td>\n",
       "      <td>14:52:19.9</td>\n",
       "      <td>3.6</td>\n",
       "      <td>117.99</td>\n",
       "      <td>NEAR THE COAST OF WESTERN TURKEY</td>\n",
       "    </tr>\n",
       "    <tr>\n",
       "      <th>6</th>\n",
       "      <td>2020-07-10</td>\n",
       "      <td>14:35:43.0</td>\n",
       "      <td>N</td>\n",
       "      <td>35.34</td>\n",
       "      <td>COQUIMBO, CHILE</td>\n",
       "    </tr>\n",
       "    <tr>\n",
       "      <th>7</th>\n",
       "      <td>2020-07-10</td>\n",
       "      <td>14:22:34.9</td>\n",
       "      <td>W</td>\n",
       "      <td>71.12</td>\n",
       "      <td>NEVADA</td>\n",
       "    </tr>\n",
       "    <tr>\n",
       "      <th>8</th>\n",
       "      <td>2020-07-10</td>\n",
       "      <td>14:15:34.0</td>\n",
       "      <td>2.1</td>\n",
       "      <td>46.65</td>\n",
       "      <td>ICELAND</td>\n",
       "    </tr>\n",
       "    <tr>\n",
       "      <th>9</th>\n",
       "      <td>2020-07-10</td>\n",
       "      <td>14:12:51.0</td>\n",
       "      <td>S</td>\n",
       "      <td>10.45</td>\n",
       "      <td>ANTOFAGASTA, CHILE</td>\n",
       "    </tr>\n",
       "    <tr>\n",
       "      <th>10</th>\n",
       "      <td>2020-07-10</td>\n",
       "      <td>14:10:40.0</td>\n",
       "      <td>W</td>\n",
       "      <td>38.83</td>\n",
       "      <td>JAVA, INDONESIA</td>\n",
       "    </tr>\n",
       "    <tr>\n",
       "      <th>11</th>\n",
       "      <td>2020-07-10</td>\n",
       "      <td>13:38:32.5</td>\n",
       "      <td>2.9</td>\n",
       "      <td>26.18</td>\n",
       "      <td>OREGON</td>\n",
       "    </tr>\n",
       "    <tr>\n",
       "      <th>12</th>\n",
       "      <td>2020-07-10</td>\n",
       "      <td>13:26:32.4</td>\n",
       "      <td>N</td>\n",
       "      <td>30.88</td>\n",
       "      <td>FRANCE</td>\n",
       "    </tr>\n",
       "    <tr>\n",
       "      <th>13</th>\n",
       "      <td>2020-07-10</td>\n",
       "      <td>13:21:23.1</td>\n",
       "      <td>E</td>\n",
       "      <td>71.55</td>\n",
       "      <td>ISLAND OF HAWAII, HAWAII</td>\n",
       "    </tr>\n",
       "    <tr>\n",
       "      <th>14</th>\n",
       "      <td>2020-07-10</td>\n",
       "      <td>13:09:26.4</td>\n",
       "      <td>1.8</td>\n",
       "      <td>38.17</td>\n",
       "      <td>ISLAND OF HAWAII, HAWAII</td>\n",
       "    </tr>\n",
       "    <tr>\n",
       "      <th>15</th>\n",
       "      <td>2020-07-10</td>\n",
       "      <td>12:38:02.0</td>\n",
       "      <td>N</td>\n",
       "      <td>117.84</td>\n",
       "      <td>SUNDA STRAIT, INDONESIA</td>\n",
       "    </tr>\n",
       "    <tr>\n",
       "      <th>16</th>\n",
       "      <td>2020-07-10</td>\n",
       "      <td>12:21:33.4</td>\n",
       "      <td>E</td>\n",
       "      <td>65.08</td>\n",
       "      <td>KURIL ISLANDS</td>\n",
       "    </tr>\n",
       "    <tr>\n",
       "      <th>17</th>\n",
       "      <td>2020-07-10</td>\n",
       "      <td>12:19:53.0</td>\n",
       "      <td>2.6</td>\n",
       "      <td>16.44</td>\n",
       "      <td>ANTOFAGASTA, CHILE</td>\n",
       "    </tr>\n",
       "    <tr>\n",
       "      <th>18</th>\n",
       "      <td>2020-07-10</td>\n",
       "      <td>12:19:33.0</td>\n",
       "      <td>S</td>\n",
       "      <td>24.33</td>\n",
       "      <td>TUCUMAN, ARGENTINA</td>\n",
       "    </tr>\n",
       "    <tr>\n",
       "      <th>19</th>\n",
       "      <td>2020-07-10</td>\n",
       "      <td>12:17:04.8</td>\n",
       "      <td>W</td>\n",
       "      <td>70.39</td>\n",
       "      <td>EASTERN TURKEY</td>\n",
       "    </tr>\n",
       "  </tbody>\n",
       "</table>\n",
       "</div>"
      ],
      "text/plain": [
       "          Date        Time Latitude Longitude  \\\n",
       "0   2020-07-10  15:26:48.3      N      35.30    \n",
       "1   2020-07-10  15:17:27.0      E      22.76    \n",
       "2   2020-07-10  15:16:59.2      3.7    24.06    \n",
       "3   2020-07-10  15:06:03.0      S      67.46    \n",
       "4   2020-07-10  15:01:08.1      W      36.44    \n",
       "5   2020-07-10  14:52:19.9      3.6   117.99    \n",
       "6   2020-07-10  14:35:43.0      N      35.34    \n",
       "7   2020-07-10  14:22:34.9      W      71.12    \n",
       "8   2020-07-10  14:15:34.0      2.1    46.65    \n",
       "9   2020-07-10  14:12:51.0      S      10.45    \n",
       "10  2020-07-10  14:10:40.0      W      38.83    \n",
       "11  2020-07-10  13:38:32.5      2.9    26.18    \n",
       "12  2020-07-10  13:26:32.4      N      30.88    \n",
       "13  2020-07-10  13:21:23.1      E      71.55    \n",
       "14  2020-07-10  13:09:26.4      1.8    38.17    \n",
       "15  2020-07-10  12:38:02.0      N     117.84    \n",
       "16  2020-07-10  12:21:33.4      E      65.08    \n",
       "17  2020-07-10  12:19:53.0      2.6    16.44    \n",
       "18  2020-07-10  12:19:33.0      S      24.33    \n",
       "19  2020-07-10  12:17:04.8      W      70.39    \n",
       "\n",
       "                          Region Name  \n",
       "0           CENTRAL MEDITERRANEAN SEA  \n",
       "1                  ANTOFAGASTA, CHILE  \n",
       "2                  CENTRAL CALIFORNIA  \n",
       "3                        MAULE, CHILE  \n",
       "4                      NORTHERN ITALY  \n",
       "5    NEAR THE COAST OF WESTERN TURKEY  \n",
       "6                     COQUIMBO, CHILE  \n",
       "7                              NEVADA  \n",
       "8                             ICELAND  \n",
       "9                  ANTOFAGASTA, CHILE  \n",
       "10                    JAVA, INDONESIA  \n",
       "11                             OREGON  \n",
       "12                             FRANCE  \n",
       "13           ISLAND OF HAWAII, HAWAII  \n",
       "14           ISLAND OF HAWAII, HAWAII  \n",
       "15            SUNDA STRAIT, INDONESIA  \n",
       "16                      KURIL ISLANDS  \n",
       "17                 ANTOFAGASTA, CHILE  \n",
       "18                 TUCUMAN, ARGENTINA  \n",
       "19                     EASTERN TURKEY  "
      ]
     },
     "execution_count": 13,
     "metadata": {},
     "output_type": "execute_result"
    }
   ],
   "source": [
    "#<tr id=\"875596\" class=\"ligne1 normal\"\n",
    "eq_response = requests.get(eq_url)\n",
    "eq_soup = BeautifulSoup(eq_response.content, 'html.parser')\n",
    "\n",
    "eq_date_soup = eq_soup.find_all('td', {'class':'tabev6'})\n",
    "eq_latitude_soup = eq_soup.find_all('td', {'class':'tabev2'})\n",
    "eq_longitude_soup = eq_soup.find_all('td', {'class':'tabev1'})\n",
    "eq_region_name_soup = eq_soup.find_all('td', {'class':'tb_region'})\n",
    "\n",
    "\n",
    "eq_date = []\n",
    "eq_time = []\n",
    "eq_latitude = []\n",
    "eq_longitude = []\n",
    "eq_region_name = []\n",
    "\n",
    "for i in range(20):\n",
    "    eq_date.append(eq_date_soup[i].text)\n",
    "    eq_latitude.append(eq_latitude_soup[i].text)\n",
    "    eq_longitude.append(eq_longitude_soup[i].text)\n",
    "    eq_region_name.append(eq_region_name_soup[i].text)\n",
    "    \n",
    "for i in range(20):\n",
    "    eq_time.append(eq_date[i][23:33])\n",
    "    eq_date[i] = eq_date[i][10:20]\n",
    "\n",
    "    \n",
    "eq = pd.DataFrame({'Date': eq_date, \n",
    "                   'Time': eq_time, \n",
    "                   'Latitude':eq_latitude, \n",
    "                   'Longitude':eq_longitude, \n",
    "                   'Region Name': eq_region_name})\n",
    "\n",
    "eq"
   ]
  },
  {
   "cell_type": "markdown",
   "metadata": {},
   "source": [
    "\n",
    "\n",
    "#### List all language names and number of related articles in the order they appear in wikipedia.org."
   ]
  },
  {
   "cell_type": "code",
   "execution_count": 14,
   "metadata": {},
   "outputs": [],
   "source": [
    "# This is the url you will scrape in this exercise\n",
    "wiki_url = 'https://www.wikipedia.org/'"
   ]
  },
  {
   "cell_type": "code",
   "execution_count": 15,
   "metadata": {},
   "outputs": [
    {
     "data": {
      "text/plain": [
       "[('English', '6.116.000'),\n",
       " ('日本語', '1.215.000'),\n",
       " ('Español', '1.610.000'),\n",
       " ('Deutsch', '2.452.000'),\n",
       " ('Русский', '1.641.000'),\n",
       " ('Français', '2.233.000'),\n",
       " ('Italiano', '1.620.000'),\n",
       " ('中文', '1.127.000'),\n",
       " ('Português', '1.038.000'),\n",
       " ('Polski', '1.418.000')]"
      ]
     },
     "execution_count": 15,
     "metadata": {},
     "output_type": "execute_result"
    }
   ],
   "source": [
    "#<div class=\"central-featured-lang lang1\" lang=\"en\" dir=\"ltr\">\n",
    "#<a id=\"js-link-box-en\" href=\"//en.wikipedia.org/\" title=\"English — Wikipedia — The Free Encyclopedia\" class=\"link-box\" data-slogan=\"The Free Encyclopedia\">\n",
    "#<strong>English</strong>\n",
    "#<small><bdi dir=\"ltr\">6&nbsp;116&nbsp;000+</bdi> <span>articles</span></small>\n",
    "\n",
    "\n",
    "\n",
    "wiki_response = requests.get(wiki_url)\n",
    "wiki_soup = BeautifulSoup(wiki_response.content, 'html.parser')\n",
    "\n",
    "wiki_div_soup = wiki_soup.find_all('div', {'class': re.compile('central-featured-lang lang\\d')})\n",
    "\n",
    "wiki_langs = []\n",
    "wiki_articles = []\n",
    "\n",
    "for d in wiki_div_soup:\n",
    "    wiki_langs.append(d.find('strong').text)\n",
    "    wiki_articles.append(d.find('small').text.replace('\\xa0','.')[:9])\n",
    "    \n",
    "wiki_langs_articles = []\n",
    "for i in range(len(wiki_langs)):\n",
    "    wiki_langs_articles.append((wiki_langs[i], wiki_articles[i]))\n",
    "    \n",
    "wiki_langs_articles"
   ]
  },
  {
   "cell_type": "markdown",
   "metadata": {},
   "source": [
    "#### A list with the different kind of datasets available in data.gov.uk."
   ]
  },
  {
   "cell_type": "code",
   "execution_count": 16,
   "metadata": {},
   "outputs": [],
   "source": [
    "# This is the url you will scrape in this exercise\n",
    "data_url = 'https://data.gov.uk/'"
   ]
  },
  {
   "cell_type": "code",
   "execution_count": 17,
   "metadata": {},
   "outputs": [
    {
     "data": {
      "text/plain": [
       "12"
      ]
     },
     "execution_count": 17,
     "metadata": {},
     "output_type": "execute_result"
    }
   ],
   "source": [
    "\n",
    "data_response = requests.get(data_url)\n",
    "data_soup = BeautifulSoup(data_response.content, 'html.parser')\n",
    "\n",
    "data_li_soup = data_soup.find_all('li')\n",
    "\n",
    "data_count = 0\n",
    "\n",
    "for d in data_li_soup:\n",
    "    if d.find('h2') : data_count += 1\n",
    "        \n",
    "data_count"
   ]
  },
  {
   "cell_type": "markdown",
   "metadata": {},
   "source": [
    "#### Display the top 10 languages by number of native speakers stored in a pandas dataframe."
   ]
  },
  {
   "cell_type": "code",
   "execution_count": 18,
   "metadata": {},
   "outputs": [],
   "source": [
    "# This is the url you will scrape in this exercise\n",
    "lang_url = 'https://en.wikipedia.org/wiki/List_of_languages_by_number_of_native_speakers'"
   ]
  },
  {
   "cell_type": "code",
   "execution_count": 22,
   "metadata": {},
   "outputs": [
    {
     "data": {
      "text/plain": [
       "['Mandarin Chinese',\n",
       " 'Sino-Tibetan',\n",
       " 'Spanish',\n",
       " 'Indo-European',\n",
       " 'English',\n",
       " 'Indo-European',\n",
       " 'Hindi',\n",
       " 'Indo-European',\n",
       " 'Bengali',\n",
       " 'Indo-European',\n",
       " 'Portuguese',\n",
       " 'Indo-European',\n",
       " 'Russian',\n",
       " 'Indo-European',\n",
       " 'Japanese',\n",
       " 'Japonic',\n",
       " 'Western Punjabi',\n",
       " 'Indo-European',\n",
       " 'Marathi',\n",
       " 'Indo-European',\n",
       " 'Telugu',\n",
       " 'Dravidian',\n",
       " 'Wu Chinese',\n",
       " 'Sino-Tibetan',\n",
       " 'Turkish',\n",
       " 'Turkic',\n",
       " 'Korean',\n",
       " 'Koreanic',\n",
       " 'French',\n",
       " 'Indo-European',\n",
       " 'German',\n",
       " 'Indo-European',\n",
       " 'Vietnamese',\n",
       " 'Austroasiatic',\n",
       " 'Tamil',\n",
       " 'Dravidian',\n",
       " 'Yue Chinese',\n",
       " 'Sino-Tibetan',\n",
       " 'Urdu',\n",
       " 'Indo-European',\n",
       " 'Javanese',\n",
       " 'Austronesian',\n",
       " 'Italian',\n",
       " 'Indo-European',\n",
       " 'Egyptian Arabic',\n",
       " 'Afroasiatic',\n",
       " 'Gujarati',\n",
       " 'Indo-European',\n",
       " 'Iranian Persian',\n",
       " 'Indo-European',\n",
       " 'Bhojpuri',\n",
       " 'Indo-European',\n",
       " 'Min Nan Chinese',\n",
       " 'Sino-Tibetan',\n",
       " 'Hakka Chinese',\n",
       " 'Sino-Tibetan',\n",
       " 'Jin Chinese',\n",
       " 'Sino-Tibetan',\n",
       " 'Hausa',\n",
       " 'Afroasiatic',\n",
       " 'Kannada',\n",
       " 'Dravidian',\n",
       " 'Indonesian',\n",
       " 'Austronesian',\n",
       " 'Polish',\n",
       " 'Indo-European',\n",
       " 'Yoruba',\n",
       " 'Niger–Congo',\n",
       " 'Xiang Chinese',\n",
       " 'Sino-Tibetan',\n",
       " 'Malayalam',\n",
       " 'Dravidian',\n",
       " 'Odia',\n",
       " 'Indo-European',\n",
       " 'Maithili',\n",
       " 'Indo-European',\n",
       " 'Burmese',\n",
       " 'Sino-Tibetan',\n",
       " 'Eastern Punjabi',\n",
       " 'Indo-European',\n",
       " 'Sunda',\n",
       " 'Austronesian',\n",
       " 'Sudanese Arabic',\n",
       " 'Afroasiatic',\n",
       " 'Algerian Arabic',\n",
       " 'Afroasiatic',\n",
       " 'Moroccan Arabic',\n",
       " 'Afroasiatic',\n",
       " 'Ukrainian',\n",
       " 'Indo-European',\n",
       " 'Igbo',\n",
       " 'Niger–Congo',\n",
       " 'Northern Uzbek',\n",
       " 'Turkic',\n",
       " 'Sindhi',\n",
       " 'Indo-European',\n",
       " 'North Levantine Arabic',\n",
       " 'Afroasiatic',\n",
       " 'Romanian',\n",
       " 'Indo-European',\n",
       " 'Tagalog',\n",
       " 'Austronesian',\n",
       " 'Dutch',\n",
       " 'Indo-European',\n",
       " 'Saʽidi Arabic',\n",
       " 'Afroasiatic',\n",
       " 'Gan Chinese',\n",
       " 'Sino-Tibetan',\n",
       " 'Amharic',\n",
       " 'Afroasiatic',\n",
       " 'Northern Pashto',\n",
       " 'Indo-European',\n",
       " 'Magahi',\n",
       " 'Indo-European',\n",
       " 'Thai',\n",
       " 'Kra–Dai',\n",
       " 'Saraiki',\n",
       " 'Indo-European',\n",
       " 'Khmer',\n",
       " 'Austroasiatic',\n",
       " 'Chhattisgarhi',\n",
       " 'Indo-European',\n",
       " 'Somali',\n",
       " 'Afroasiatic',\n",
       " 'Malay',\n",
       " 'Austronesian',\n",
       " 'Cebuano',\n",
       " 'Austronesian',\n",
       " 'Nepali',\n",
       " 'Indo-European',\n",
       " 'Mesopotamian Arabic',\n",
       " 'Afroasiatic',\n",
       " 'Assamese',\n",
       " 'Indo-European',\n",
       " 'Sinhalese',\n",
       " 'Indo-European',\n",
       " 'Northern Kurdish',\n",
       " 'Indo-European',\n",
       " 'Hejazi Arabic',\n",
       " 'Afroasiatic',\n",
       " 'Nigerian Fulfulde',\n",
       " 'Niger–Congo',\n",
       " 'Bavarian',\n",
       " 'Indo-European',\n",
       " 'South Azerbaijani',\n",
       " 'Turkic',\n",
       " 'Greek',\n",
       " 'Indo-European',\n",
       " 'Chittagonian',\n",
       " 'Indo-European',\n",
       " 'Kazakh',\n",
       " 'Turkic',\n",
       " 'Deccan',\n",
       " 'Indo-European',\n",
       " 'Hungarian',\n",
       " 'Uralic',\n",
       " 'Kinyarwanda',\n",
       " 'Niger–Congo',\n",
       " 'Zulu',\n",
       " 'Niger–Congo',\n",
       " 'South Levantine Arabic',\n",
       " 'Afroasiatic',\n",
       " 'Tunisian Arabic',\n",
       " 'Afroasiatic',\n",
       " 'Sanaani Spoken Arabic',\n",
       " 'Afroasiatic',\n",
       " 'Min Bei Chinese',\n",
       " 'Sino-Tibetan',\n",
       " 'Southern Pashto',\n",
       " 'Indo-European',\n",
       " 'Rundi',\n",
       " 'Niger–Congo',\n",
       " 'Czech',\n",
       " 'Indo-European',\n",
       " 'Taʽizzi-Adeni Arabic',\n",
       " 'Afroasiatic',\n",
       " 'Uyghur',\n",
       " 'Turkic',\n",
       " 'Min Dong Chinese',\n",
       " 'Sino-Tibetan',\n",
       " 'Sylheti',\n",
       " 'Indo-European']"
      ]
     },
     "execution_count": 22,
     "metadata": {},
     "output_type": "execute_result"
    }
   ],
   "source": [
    "#Languages with at least 10 million first-language speakers\n",
    "#<table class=\"wikitable sortable jquery-tablesorter\">\n",
    "#<tr>\n",
    "#<td>1\n",
    "#</td>\n",
    "#<td><a href=\"/wiki/Mandarin_Chinese\" title=\"Mandarin Chinese\">Mandarin Chinese</a>\n",
    "\n",
    "\n",
    "lang_response = requests.get(lang_url)\n",
    "lang_soup = BeautifulSoup(lang_response.content, 'html.parser')\n",
    "\n",
    "\n",
    "lang_table_soup = lang_soup.find_all('table', {\"class\":\"wikitable sortable\"} )\n",
    "\n",
    "lang_table = lang_table_soup[0].find_all('td')\n",
    "\n",
    "\n",
    "langs = []\n",
    "for td in lang_table:\n",
    "    if td.find('a'):\n",
    "        langs.append(td.find('a').text)\n",
    "        \n",
    "langs\n",
    "        "
   ]
  },
  {
   "cell_type": "markdown",
   "metadata": {},
   "source": [
    "## Bonus\n"
   ]
  },
  {
   "cell_type": "markdown",
   "metadata": {},
   "source": [
    "#### Display IMDB's top 250 data (movie name, initial release, director name and stars) as a pandas dataframe."
   ]
  },
  {
   "cell_type": "code",
   "execution_count": null,
   "metadata": {},
   "outputs": [],
   "source": [
    "# This is the url you will scrape in this exercise \n",
    "url = 'https://www.imdb.com/chart/top'"
   ]
  },
  {
   "cell_type": "code",
   "execution_count": 20,
   "metadata": {},
   "outputs": [],
   "source": [
    "# your code here"
   ]
  },
  {
   "cell_type": "markdown",
   "metadata": {},
   "source": [
    "#### Display the movie name, year and a brief summary of the top 10 random movies (IMDB) as a pandas dataframe."
   ]
  },
  {
   "cell_type": "code",
   "execution_count": null,
   "metadata": {},
   "outputs": [],
   "source": [
    "#This is the url you will scrape in this exercise\n",
    "url = 'http://www.imdb.com/chart/top'"
   ]
  },
  {
   "cell_type": "code",
   "execution_count": null,
   "metadata": {},
   "outputs": [],
   "source": [
    "# your code here"
   ]
  },
  {
   "cell_type": "markdown",
   "metadata": {},
   "source": [
    "#### Find the live weather report (temperature, wind speed, description and weather) of a given city."
   ]
  },
  {
   "cell_type": "code",
   "execution_count": null,
   "metadata": {},
   "outputs": [],
   "source": [
    "#https://openweathermap.org/current\n",
    "city = input('Enter the city: ')\n",
    "url = 'http://api.openweathermap.org/data/2.5/weather?'+'q='+city+'&APPID=b35975e18dc93725acb092f7272cc6b8&units=metric'"
   ]
  },
  {
   "cell_type": "code",
   "execution_count": null,
   "metadata": {},
   "outputs": [],
   "source": [
    "# your code here"
   ]
  },
  {
   "cell_type": "markdown",
   "metadata": {},
   "source": [
    "#### Find the book name, price and stock availability as a pandas dataframe."
   ]
  },
  {
   "cell_type": "code",
   "execution_count": null,
   "metadata": {},
   "outputs": [],
   "source": [
    "# This is the url you will scrape in this exercise. \n",
    "# It is a fictional bookstore created to be scraped. \n",
    "url = 'http://books.toscrape.com/'"
   ]
  },
  {
   "cell_type": "code",
   "execution_count": null,
   "metadata": {},
   "outputs": [],
   "source": [
    "# your code here"
   ]
  }
 ],
 "metadata": {
  "kernelspec": {
   "display_name": "Python 3",
   "language": "python",
   "name": "python3"
  },
  "language_info": {
   "codemirror_mode": {
    "name": "ipython",
    "version": 3
   },
   "file_extension": ".py",
   "mimetype": "text/x-python",
   "name": "python",
   "nbconvert_exporter": "python",
   "pygments_lexer": "ipython3",
   "version": "3.7.7"
  }
 },
 "nbformat": 4,
 "nbformat_minor": 2
}
